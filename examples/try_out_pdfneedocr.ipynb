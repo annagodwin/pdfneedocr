{
  "nbformat": 4,
  "nbformat_minor": 0,
  "metadata": {
    "colab": {
      "provenance": [],
      "authorship_tag": "ABX9TyN3SVaac727W5Rka7Nt5QbC",
      "include_colab_link": true
    },
    "kernelspec": {
      "name": "python3",
      "display_name": "Python 3"
    },
    "language_info": {
      "name": "python"
    }
  },
  "cells": [
    {
      "cell_type": "markdown",
      "metadata": {
        "id": "view-in-github",
        "colab_type": "text"
      },
      "source": [
        "<a href=\"https://colab.research.google.com/github/annagodwin/pdfneedocr/blob/main/examples/try_out_pdfneedocr.ipynb\" target=\"_parent\"><img src=\"https://colab.research.google.com/assets/colab-badge.svg\" alt=\"Open In Colab\"/></a>"
      ]
    },
    {
      "cell_type": "markdown",
      "source": [
        "# Install `pdfneedocr`"
      ],
      "metadata": {
        "id": "xy4r5ltsmcHZ"
      }
    },
    {
      "cell_type": "code",
      "source": [
        "!pip install \"pdfneedocr @ git+https://github.com/annagodwin/pdfneedocr.git\""
      ],
      "metadata": {
        "colab": {
          "base_uri": "https://localhost:8080/"
        },
        "id": "dCbgAy3xmgDe",
        "outputId": "044260ac-cdb6-40ba-b1aa-be750b87eee0"
      },
      "execution_count": 1,
      "outputs": [
        {
          "output_type": "stream",
          "name": "stdout",
          "text": [
            "Looking in indexes: https://pypi.org/simple, https://us-python.pkg.dev/colab-wheels/public/simple/\n",
            "Collecting pdfneedocr@ git+https://github.com/annagodwin/pdfneedocr.git\n",
            "  Cloning https://github.com/annagodwin/pdfneedocr.git to /tmp/pip-install-nlt0hxzu/pdfneedocr_17c9f4d2a9b84595a171ee9936ae6b84\n",
            "  Running command git clone -q https://github.com/annagodwin/pdfneedocr.git /tmp/pip-install-nlt0hxzu/pdfneedocr_17c9f4d2a9b84595a171ee9936ae6b84\n",
            "Collecting pymupdf>=1.21.0\n",
            "  Downloading PyMuPDF-1.21.0-cp38-cp38-manylinux_2_17_x86_64.manylinux2014_x86_64.whl (14.0 MB)\n",
            "\u001b[K     |████████████████████████████████| 14.0 MB 270 kB/s \n",
            "\u001b[?25hBuilding wheels for collected packages: pdfneedocr\n",
            "  Building wheel for pdfneedocr (setup.py) ... \u001b[?25l\u001b[?25hdone\n",
            "  Created wheel for pdfneedocr: filename=pdfneedocr-0.1.0-py3-none-any.whl size=2674 sha256=dc125b3a2cc57c72dafcdefed8c50c0950a5596b5f52a2daf451070f804a00b5\n",
            "  Stored in directory: /tmp/pip-ephem-wheel-cache-kl6hs0ml/wheels/f4/ac/8b/1223fa062845a085e3ae883fde27b4b779acf1e1ac9cb36c1e\n",
            "Successfully built pdfneedocr\n",
            "Installing collected packages: pymupdf, pdfneedocr\n",
            "Successfully installed pdfneedocr-0.1.0 pymupdf-1.21.0\n"
          ]
        }
      ]
    },
    {
      "cell_type": "markdown",
      "source": [
        "# Test on an example PDF that needs OCR"
      ],
      "metadata": {
        "id": "yKa1xTfcmyrJ"
      }
    },
    {
      "cell_type": "code",
      "source": [
        "# Test a PDF that needs OCR - expects True\n",
        "import requests\n",
        "from pdfneedocr.check import pdf_need_ocr_check\n",
        "\n",
        "url = \"https://raw.githubusercontent.com/annagodwin/pdfneedocr/main/tests/data/text_need_ocr_true.pdf\"\n",
        "r = requests.get(url, stream=True)\n",
        "\n",
        "chunk_size = 2000\n",
        "with open('82252956_2958.pdf', 'wb') as fd:\n",
        "    for chunk in r.iter_content(chunk_size):\n",
        "        fd.write(chunk)\n",
        "pdf_fpath = '82252956_2958.pdf'\n",
        "pdf_need_ocr_check(pdf_fpath)\n"
      ],
      "metadata": {
        "colab": {
          "base_uri": "https://localhost:8080/"
        },
        "id": "5yTi1VbIkN9Y",
        "outputId": "3191b501-062b-47fc-bee2-70cfa3910a70"
      },
      "execution_count": 2,
      "outputs": [
        {
          "output_type": "execute_result",
          "data": {
            "text/plain": [
              "True"
            ]
          },
          "metadata": {},
          "execution_count": 2
        }
      ]
    },
    {
      "cell_type": "markdown",
      "source": [
        "# Test on an example PDF that does not need OCR"
      ],
      "metadata": {
        "id": "hcLjALM3m5AG"
      }
    },
    {
      "cell_type": "code",
      "source": [
        "# Test a PDF that is machine readable (does not need OCR) - expects False\n",
        "import requests\n",
        "from pdfneedocr.check import pdf_need_ocr_check\n",
        "\n",
        "url = \"https://raw.githubusercontent.com/annagodwin/pdfneedocr/main/tests/data/text_need_ocr_false.pdf\"\n",
        "r = requests.get(url, stream=True)\n",
        "\n",
        "chunk_size = 2000\n",
        "with open('82252956_2958_ocr.pdf', 'wb') as fd:\n",
        "    for chunk in r.iter_content(chunk_size):\n",
        "        fd.write(chunk)\n",
        "pdf_fpath = '82252956_2958_ocr.pdf'\n",
        "pdf_need_ocr_check(pdf_fpath)"
      ],
      "metadata": {
        "colab": {
          "base_uri": "https://localhost:8080/"
        },
        "id": "ksa5mEiZl6pr",
        "outputId": "a438caa8-e11e-4991-e7e7-d0a4f2c97dda"
      },
      "execution_count": 3,
      "outputs": [
        {
          "output_type": "execute_result",
          "data": {
            "text/plain": [
              "False"
            ]
          },
          "metadata": {},
          "execution_count": 3
        }
      ]
    },
    {
      "cell_type": "code",
      "source": [
        "# end"
      ],
      "metadata": {
        "id": "AOkTb3fsmKCt"
      },
      "execution_count": 4,
      "outputs": []
    }
  ]
}